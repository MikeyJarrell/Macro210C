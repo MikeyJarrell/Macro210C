{
 "cells": [
  {
   "cell_type": "markdown",
   "metadata": {
    "vscode": {
     "languageId": "latex"
    }
   },
   "source": [
    "# Complementarity of Money and Consumption\n",
    "\n",
    "Suppose the utility function in our classical monetary model is now\n",
    "\n",
    "$$\n",
    "    U(X_t,L_t)=\\frac{X_t^{1-\\gamma}-1}{1-\\gamma}-\\chi \\frac{N_t^{1+\\varphi}}{{1+\\varphi}}\n",
    "$$\n",
    "where\n",
    "$$\n",
    "    X_t=\\left[(1-\\vartheta)C_t^{1-\\nu}+\\vartheta\\left(\\frac{M_t}{P_t}\\right)^{1-\\nu}\\right]^{\\frac{1}{1-\\nu}}\n",
    "$$"
   ]
  },
  {
   "cell_type": "markdown",
   "metadata": {},
   "source": [
    "### (a) Derive the first order conditions for this economy.\n",
    "\n",
    "Set up the household Lagrangian and take FOCs:\n",
    "\n",
    "$$\n",
    "    \\begin{align*}\n",
    "        \\mathcal{L} & = \\mathbb{E}_{t} \\left[ \\sum_{s=0}^\\infty \\beta^t \\left( \\frac{X_t^{1-\\gamma}-1}{1-\\gamma}-\\chi \\frac{N_t^{1+\\varphi}}{{1+\\varphi}} \\right) \\right] + \\lambda_t \\left( W_{t+s} N_{t+s} + Q_{t+s-1} B_{t+s-1} + M_{t+s-1} + P_{t+s}(TR_{t+s} + PR_{t+s}) - P_{t+s}C_{t+s} - B_{t+s} - M_{t+s}\\right) \\\\\n",
    "        \\frac{\\partial \\mathcal{L}}{\\partial C_{t+s}} & = 0 = X_{t+s}^{\\nu - \\gamma}(1 - \\vartheta)C^{-\\nu}_{t+s} - P_{t+s} \\lambda_{t+s} \\\\\n",
    "        \\frac{\\partial \\mathcal{L}}{\\partial N_{t+s}} & = 0 = \\chi N_{t+1}^\\varphi - \\lambda_{t+s} W_{t+s} \\\\\n",
    "        \\frac{\\partial \\mathcal{L}}{\\partial B_{t+s}} & = 0 = -\\lambda_{t+s} + \\mathbb{E}_{t+s} \\left[ \\beta \\lambda_{t+s+1} Q_{t+s} \\right] \\\\\n",
    "        \\frac{\\partial \\mathcal{L}}{\\partial M_{t+s}} & = 0 = -\\lambda_{t+s} + \\mathbb{E}_{t+s} \\left[ \\beta \\lambda_{t+s+1} \\right] + X_{t+s}^{\\nu-\\gamma} \\vartheta \\left(\\frac{M_{t+s}}{P_{t+s}}\\right)^{-\\nu} \\frac{1}{P_{t+s}}\n",
    "    \\end{align*}\n",
    "$$\n",
    "\n",
    "Now we do some rearranging to get a few equations:\n",
    "1. A labor–leisure equation;\n",
    "$$\n",
    "    \\frac{W_{t+s}}{P_{t+s}} = \\frac{\\chi N_{t+s}^{\\varphi}}{(1 - \\vartheta)C_{t+s}^{-\\nu} X_{t+s}^{\\nu - \\gamma}}\n",
    "$$\n",
    "2. An Euler equation;\n",
    "$$\n",
    "    \\frac{X_{t+s}^{\\nu - \\gamma} C_{t+s}^{-\\nu}}{P_{t+s}} = \\beta Q_{t+s} \\mathbb{E}_{t+s} \\left[ \\frac{X_{t+s+1}^{\\nu - \\gamma} C_{t+s+1}^{-\\nu}}{P_{t+s+1}} \\right]\n",
    "$$\n",
    "3. And some sort of money–consumption equation;\n",
    "$$\n",
    "    \\frac{X_{t+s}^{\\nu - \\gamma} C_{t+s}^{-\\nu}}{P_{t+s}} = \\beta \\mathbb{E}_{t+s} \\left[ \\frac{X_{t+s+1}^{\\nu - \\gamma} C_{t+s+1}^{-\\nu}}{P_{t+s+1}} \\right] + X_{t+s}^{\\nu - \\gamma} \\frac{\\vartheta}{1 - \\vartheta} \\left(\\frac{M_{t+s}}{P_{t+s}}\\right)^{-\\nu} \\frac{1}{P_{t+s}}\n",
    "$$\n",
    "\n",
    "Now we set up the firm's problem. They maximize profits $PR_t = Y_t - \\frac{W_t}{P_t} N_t$ where $Y_t = A_t N_t$. Then their FOC is\n",
    "$$\n",
    "    \\frac{\\partial PR_t}{\\partial N_t} = 0 = A_t - \\frac{W_t}{P_t}\n",
    "$$\n",
    "Therefore, we have an equation that sets the real wages equal to the marginal product of labor:\n",
    "$$\n",
    "    A_t = \\frac{W_t}{P_t}\n",
    "$$"
   ]
  },
  {
   "cell_type": "markdown",
   "metadata": {},
   "source": [
    "### (b) Under what conditions does this economy predict that money is neutral? Explain why.\n",
    "\n",
    "This occurs if $\\nu = \\gamma$, i.e., when the elasticity of substitution between money and consumption $\\left(\\frac{1}{1 - \\nu}\\right)$ is equal to the curvature of the utility function $(1 - \\gamma)$. That renders the utility function additively separable across money and consumption:\n",
    "$$\n",
    "    U(X_t,L_t)=\\frac{(1-\\vartheta)C_t^{1-\\nu}+\\vartheta\\left(\\frac{M_t}{P_t}\\right)^{1-\\nu} - 1}{1-\\gamma}-\\chi \\frac{N_t^{1+\\varphi}}{{1+\\varphi}}\n",
    "$$\n",
    "This means that households optimize consumption, labor, and money independently. So any change in money doesn't effect consumption or labor.\n",
    "\n",
    "This also occurs (trivially) if $\\vartheta = 0$, which implies that households get zero utility from consumption."
   ]
  },
  {
   "cell_type": "markdown",
   "metadata": {},
   "source": [
    "### (c) Solve analytically for the steady state of the model (as far as you can), assuming $A=1$.\n",
    "\n",
    "Plug this new information into the MLP equation, where we drop all the subscripts to impose steady state (e.g., $X := X_{ss}$).\n",
    "$$\n",
    "    \\begin{align*}\n",
    "        A & = \\frac{W}{P} \\\\\n",
    "        1 & = \\frac{W}{P} \\\\\n",
    "        W & = P\n",
    "    \\end{align*}\n",
    "$$\n",
    "Let's also assume that $PR = 0$. Then we have\n",
    "$$\n",
    "    \\begin{align*}\n",
    "        PR & = 0 = Y - \\frac{W}{P} N \\\\\n",
    "        Y & = N \\\\\n",
    "        C & = N\n",
    "    \\end{align*}\n",
    "    \n",
    "$$\n",
    "Plug this new information into the labor–leisure equation and we get\n",
    "$$\n",
    "    \\begin{align*}\n",
    "        \\frac{W}{P} & = \\frac{\\chi N^{\\varphi}}{(1 - \\vartheta)C^{-\\nu} X^{\\nu - \\gamma}} \\\\\n",
    "        1 & = \\frac{\\chi C^{\\varphi}}{(1 - \\vartheta)C^{-\\nu} X^{\\nu - \\gamma}} \\\\\n",
    "        (1 - \\vartheta)X^{\\nu - \\gamma} & = \\chi C^{\\varphi + \\nu}\n",
    "    \\end{align*}\n",
    "$$\n",
    "The real interest rate $R_{t+1}$ simplifies greatly in steady state:\n",
    "$$\n",
    "    R = Q \\frac{P}{P} = Q\n",
    "$$\n",
    "This can be plugged into the Euler equation, from which we can drop the expectation now that we are in steady state.\n",
    "$$\n",
    "    \\begin{align*}\n",
    "        \\frac{X^{\\nu - \\gamma} C^{-\\nu}}{P} & = \\beta Q \\left[ \\frac{X^{\\nu - \\gamma} C^{-\\nu}}{P} \\right] \\\\\n",
    "        1 & = \\beta Q \\\\\n",
    "        Q & = \\frac{1}{\\beta} = R\n",
    "    \\end{align*}\n",
    "$$\n",
    "We can also simplify the money–consumption equation.\n",
    "$$\n",
    "    \\begin{align*}\n",
    "        \\frac{X^{\\nu - \\gamma} C^{-\\nu}}{P} & = \\beta \\frac{X^{\\nu - \\gamma} C^{-\\nu}}{P} + X^{\\nu - \\gamma} \\frac{\\vartheta}{1 - \\vartheta} \\left(\\frac{M}{P}\\right)^{-\\nu} \\frac{1}{P} \\\\\n",
    "        1 & = \\beta + \\frac{\\vartheta}{1 - \\vartheta} \\left(\\frac{M}{P}\\right)^{-\\nu} C^{\\nu} \\\\\n",
    "        1 - \\beta & = \\frac{\\vartheta}{1 - \\vartheta} \\left(\\frac{M}{P}\\right)^{-\\nu} C^{\\nu} \\\\\n",
    "        (1 - \\beta)\\frac{1 - \\vartheta}{\\vartheta}C^{-\\nu} & = \\left(\\frac{M}{P}\\right)^{-\\nu} \\\\\n",
    "        \\left(\\frac{M}{P}\\right)^{-\\nu \\frac{1 - \\nu}{-\\nu}} & = \\left((1 - \\beta)\\frac{1 - \\vartheta}{\\vartheta}C^{-\\nu}\\right)^\\frac{1 - \\nu}{-\\nu} \\\\\n",
    "        \\left(\\frac{M}{P}\\right)^{1 - \\nu} & = \\left((1 - \\beta)\\frac{1 - \\vartheta}{\\vartheta}\\right)^{-\\frac{1 - \\nu}{\\nu}} C^{1-\\nu} \\\\\n",
    "        \\frac{M}{P} & = \\left((1 - \\beta)\\frac{1 - \\vartheta}{\\vartheta}\\right)^{-\\frac{1}{\\nu}} C \\\\\n",
    "    \\end{align*}\n",
    "$$\n",
    "Plug this into our definition of $X_t$.\n",
    "$$\n",
    "    \\begin{align*}\n",
    "        X & = \\left[(1-\\vartheta)C^{1-\\nu}+\\vartheta\\left(\\frac{M}{P}\\right)^{1-\\nu}\\right]^{\\frac{1}{1-\\nu}} \\\\\n",
    "        X & = \\left[(1-\\vartheta)C^{1-\\nu}+\\vartheta \\left((1 - \\beta)\\frac{1 - \\vartheta}{\\vartheta}\\right)^{-\\frac{1 - \\nu}{\\nu}} C^{1-\\nu} \\right]^{\\frac{1}{1-\\nu}} \\\\\n",
    "        X & = C \\left[1 - \\vartheta + \\vartheta \\left((1 - \\beta)\\frac{1 - \\vartheta}{\\vartheta}\\right)^{-\\frac{1 - \\nu}{\\nu}} \\right]^{\\frac{1}{1-\\nu}} \\\\\n",
    "        X & = C \\left[1 - \\vartheta + \\frac{\\vartheta}{\\vartheta^{-\\frac{1 - \\nu}{\\nu}}} \\left((1 - \\beta)(1 - \\vartheta)\\right)^{-\\frac{1 - \\nu}{\\nu}} \\right]^{\\frac{1}{1-\\nu}} \\\\\n",
    "        X & = C \\left[1 - \\vartheta + \\vartheta^{\\frac{1}{\\nu}} \\left((1 - \\beta)(1 - \\vartheta)\\right)^{-\\frac{1 - \\nu}{\\nu}} \\right]^{\\frac{1}{1-\\nu}} \\\\\n",
    "    \\end{align*}\n",
    "$$\n",
    "Plug this into the simplified labor–leisure equation.\n",
    "$$\n",
    "    \\begin{align*}\n",
    "        \\chi C^{\\varphi + \\nu} & = (1 - \\vartheta)\\left( C \\left[1 - \\vartheta + \\vartheta^{\\frac{1}{\\nu}} \\left((1 - \\beta)(1 - \\vartheta)\\right)^{-\\frac{1 - \\nu}{\\nu}} \\right]^{\\frac{1}{1-\\nu}} \\right)^{\\nu - \\gamma} \\\\\n",
    "        \\chi C^{\\varphi + \\nu - (\\nu - \\gamma)} & = (1 - \\vartheta)\\left[1 - \\vartheta + \\vartheta^{\\frac{1}{\\nu}} \\left((1 - \\beta)(1 - \\vartheta)\\right)^{-\\frac{1 - \\nu}{\\nu}} \\right]^{\\frac{\\nu - \\gamma}{1-\\nu}}\\\\\n",
    "        C^{\\varphi + \\gamma} & = \\frac{1 - \\vartheta}{\\chi}\\left[1 - \\vartheta + \\vartheta^{\\frac{1}{\\nu}} \\left((1 - \\beta)(1 - \\vartheta)\\right)^{-\\frac{1 - \\nu}{\\nu}} \\right]^{\\frac{\\nu - \\gamma}{1-\\nu}}\\\\\n",
    "        C & = \\left( \\frac{1 - \\vartheta}{\\chi}\\left[1 - \\vartheta + \\vartheta^{\\frac{1}{\\nu}} \\left((1 - \\beta)(1 - \\vartheta)\\right)^{-\\frac{1 - \\nu}{\\nu}} \\right]^{\\frac{\\nu - \\gamma}{1-\\nu}} \\right)^{\\frac{1}{\\varphi + \\gamma}}\\\\\n",
    "    \\end{align*}\n",
    "$$"
   ]
  },
  {
   "cell_type": "markdown",
   "metadata": {},
   "source": [
    "### (d) Based on your steady state equations describe an algorithm for how to solve for the steady state.\n",
    "\n",
    "1. Plug the parameters $\\vartheta$, $\\chi$, $\\beta$, $\\nu$, and $\\varphi$ into our equation for $C$ to find the steady state level of consumption.\n",
    "2. Set $C = N$ to find steady state labor.\n",
    "3. Set $C = Y$ to find steady state output.\n",
    "4. Plug $C$ and the parameters into our equation for $\\frac{M}{P}$ to find the level of real money in the economy.\n",
    "\n",
    "Now, the price $P$ is free to move around, which would affect $W$, $Q$, etc., but I don't think we care because I think $\\frac{M}{P}$ is constant in steady state."
   ]
  },
  {
   "cell_type": "markdown",
   "metadata": {},
   "source": [
    "### (e)  How would you calibrate $\\vartheta$ given knowledge of $\\nu$? (I.e., what moments of the data would you use and how?)\n",
    "\n",
    "I don't entirely understand this question. I'm going to assume we're given data that will tell us about stuff like $C$, $N$, $Y$, and $M$. If we make some assumptions about $\\beta$ and $\\chi$, then we can solve for $\\vartheta$. One thing we should do is see exactly how sensitive $\\vartheta$ is to our choice of $\\beta$ and $\\chi$: start with some reasonable numbers taken from the literature (e.g., $\\beta = 0.98$ and $\\chi = 1$), calculate $\\vartheta$, then repeat for different but still sensible paramater values. This will give us a reasonable range of $\\vartheta$."
   ]
  },
  {
   "cell_type": "markdown",
   "metadata": {},
   "source": [
    "### (f) Given knowledge of other parameters, how would you set $M$ such that $P=1$ in steady state?\n",
    "\n",
    "Given that we have found $C$, we can just take one of our equations from part (c), and plug in $P = 1$, whatever we found for $\\nu$, and whatever our assumption is for $\\beta$.\n",
    "\n",
    "$$\n",
    "    \\begin{align*}\n",
    "        \\frac{M}{P} & = \\left((1 - \\beta)\\frac{1 - \\vartheta}{\\vartheta}\\right)^{-\\frac{1}{\\nu}} C \\\\\n",
    "        M & = \\left((1 - \\beta)\\frac{1 - \\vartheta}{\\vartheta}\\right)^{-\\frac{1}{\\nu}} C\n",
    "    \\end{align*}\n",
    "$$"
   ]
  },
  {
   "cell_type": "markdown",
   "metadata": {},
   "source": [
    "### (g) Derive the log-linearized model. \n",
    "\n",
    "We'll start with the labor–leisure equation. First, drop the $+s$ subscripts because they're annoying, then take logs, then do first-order Taylor approximations around things that have a $t$ subscript. (Apparently we can just leave the constants alone.) Then we simplify by using the hat notation, e.g., where $\\hat{z} = \\log{z_t} - \\log{z}$. \n",
    "$$\n",
    "    \\begin{align*}\n",
    "        \\frac{W_{t+s}}{P_{t+s}} & = \\frac{\\chi N_{t+s}^{\\varphi}}{(1 - \\vartheta)C_{t+s}^{-\\nu} X_{t+s}^{\\nu - \\gamma}} \\\\\n",
    "        \\ln(W_t) - \\ln(P_t) & = \\ln(\\chi) + \\varphi \\ln(N_t) - \\ln(1- \\varphi) + \\nu \\ln(C_t) - (\\nu - \\gamma) \\ln(X_t) \\\\\n",
    "        \\ln(W) + \\frac{1}{W}(W_t - W) - \\left(\\ln(P) + \\frac{1}{P}(P_t - P)\\right) & = \\ln(\\chi) + \\varphi \\left(\\ln(N) + \\frac{1}{N}(N_t - N)\\right) - \\ln(1- \\varphi) + \\nu \\left( \\ln(C) + \\frac{1}{C}(C_t - C) \\right) - (\\nu - \\gamma) \\left( \\ln(X) + \\frac{1}{X} (X_t - X) \\right) \\\\\n",
    "        \\ln(W) + \\hat{W}_t - \\left(\\ln(P) + \\hat{P}_t\\right) & = \\ln(\\chi) + \\varphi \\left(\\ln(N) + \\hat{N}_t\\right) - \\ln(1- \\varphi) + \\nu \\left( \\ln(C) + \\hat{C}_t \\right) - (\\nu - \\gamma) \\left( \\ln(X) + \\hat{X}_t \\right) \\\\\n",
    "    \\end{align*}\n",
    "$$\n",
    "Now we do a few tricks. We showed earlier that in steady state, $W = P$, $C = N$, and $(1 - \\vartheta)X^{\\nu - \\gamma} = \\chi C^{\\varphi + \\nu}$, so we plug those in and lots of stuff cancels.\n",
    "$$\n",
    "    \\begin{align*}\n",
    "        \\ln(W) + \\hat{W}_t - \\left(\\ln(W) + \\hat{P}_t\\right) & = \\ln(\\chi) + \\varphi \\left(\\ln(C) + \\hat{N}_t\\right) - \\ln(\\chi C^{\\nu + \\varphi} X^{-\\nu + \\gamma}) + \\nu \\left( \\ln(C) + \\hat{C}_t \\right) - (\\nu - \\gamma) \\left( \\ln(X) + \\hat{X}_t \\right) \\\\\n",
    "        \\hat{W}_t - \\hat{P}_t & = \\ln(\\chi) + \\varphi \\ln(C) + \\varphi \\hat{N}_t - \\ln(\\chi) - (\\nu + \\varphi) \\ln(C) + (\\nu - \\gamma) \\ln(X) + \\nu \\ln(C) + \\nu \\hat{C}_t - (\\nu - \\gamma) \\left( \\ln(X) + \\hat{X}_t \\right) \\\\\n",
    "        \\hat{W}_t - \\hat{P}_t & = \\varphi \\hat{N}_t + \\nu \\hat{C}_t - (\\nu - \\gamma) \\hat{X}_t \\\\\n",
    "    \\end{align*}\n",
    "$$\n",
    "OK, now we need to do the same thing with the Euler equation. I will omit the algebra since the pattern is fairly predictable: constants go away, things with $t$ subscripts get hats, and powers fall down and become coefficients. The only tricky thing here is the expectation. The expectation of a steady state is just the steady state, so I think I'm safe closing my eyes and pretending it doesn't exist. So then what we end up with is the following.\n",
    "$$\n",
    "    \\begin{align*}\n",
    "        \\frac{X_{t+s}^{\\nu - \\gamma} C_{t+s}^{-\\nu}}{P_{t+s}} & = \\beta Q_{t+s} \\mathbb{E}_{t+s} \\left[ \\frac{X_{t+s+1}^{\\nu - \\gamma} C_{t+s+1}^{-\\nu}}{P_{t+s+1}} \\right] \\\\\n",
    "        (\\nu - \\gamma) \\hat{X}_t - \\nu \\hat{C}_t - \\hat{P}_t & = \\hat{Q}_t + (\\nu - \\gamma) \\hat{X}_{t+1} - \\nu \\hat{C}_{t+1} - \\hat{P}_{t+1}\n",
    "    \\end{align*}\n",
    "$$\n",
    "And then we do the same with the money equation.\n",
    "<!-- $$\n",
    "    \\begin{align*}\n",
    "        \\frac{X_{t+s}^{\\nu - \\gamma} C_{t+s}^{-\\nu}}{P_{t+s}} & = \\beta \\mathbb{E}_{t+s} \\left[ \\frac{X_{t+s+1}^{\\nu - \\gamma} C_{t+s+1}^{-\\nu}}{P_{t+s+1}} \\right] + X_{t+s}^{\\nu - \\gamma} \\frac{\\vartheta}{1 - \\vartheta} \\left(\\frac{M_{t+s}}{P_{t+s}}\\right)^{-\\nu} \\frac{1}{P_{t+s}} \\\\\n",
    "        (\\nu - \\gamma)\\ln(X_t) - \\nu \\ln(C_t) - \\ln(P_t) & = \\ln(\\beta) + (\\nu - \\gamma) \\ln(X_{t+1}) - \\nu \\ln(C_{t+1}) - \\ln(P_{t+1}) + (\\nu - \\gamma) \\ln(X_t) + \\ln(\\vartheta) - \\ln(1 - \\vartheta) - \\nu \\ln(M_t) + \\nu \\ln(P_t) - \\ln(P_t) \\\\\n",
    "        (\\nu - \\gamma)\\left(\\ln(X) + \\hat{X}_t \\right) - \\nu \\left( \\ln(C) + \\hat{C}_t \\right)- \\ln(P) - \\hat{P}_t & = \\ln(\\beta) + (\\nu - \\gamma) \\left( \\ln(X) + \\hat{X}_{t+1} \\right) - \\nu \\left( \\ln(C) + \\hat{C}_{t+1} \\right) - \\left( \\ln(P) + \\hat{P}_{t+1} \\right)  + (\\nu - \\gamma) \\left( \\ln(X) - \\hat{X}_t \\right) + \\ln(\\vartheta) - \\ln(1 - \\vartheta) - \\nu \\left( \\ln(M) + \\hat{M}_t \\right)+ \\nu \\left (\\ln(P) + \\hat{P}_t \\right) - \\left( \\ln(P) + \\hat{P}_t \\right) \\\\\n",
    "        - \\nu \\hat{C}_t & = \\ln(\\beta) + (\\nu - \\gamma) \\left( \\ln(X) + \\hat{X}_{t+1} \\right) - \\nu \\hat{C}_{t+1} - \\hat{P}_{t+1} + \\ln(\\vartheta) - \\ln(1 - \\vartheta) - \\nu \\left( \\ln(M) + \\hat{M}_t \\right)+ \\nu \\left (\\ln(P) + \\hat{P}_t \\right) \\\\\n",
    "    \\end{align*}\n",
    "$$\n",
    "Plugging in $\\frac{M}{P} = \\left((1 - \\beta)\\frac{1 - \\vartheta}{\\vartheta}\\right)^{-\\frac{1}{\\nu}} C$ for $M$.\n",
    "$$\n",
    "    \\begin{align*}\n",
    "        \\nu \\left( \\hat{C}_{t+1} - \\hat{C}_t \\right) & = \\ln(\\beta) + (\\nu - \\gamma) \\left( \\ln(X) + \\hat{X}_{t+1} \\right) - \\hat{P}_{t+1} + \\ln(\\vartheta) - \\ln(1 - \\vartheta) - \\nu \\ln\\left( \\left((1 - \\beta)\\frac{1 - \\vartheta}{\\vartheta}\\right)^{-\\frac{1}{\\nu}} C P \\right) - \\nu \\hat{M}_t + \\nu \\left (\\ln(P) + \\hat{P}_t \\right) \\\\\n",
    "        \\nu \\left( \\hat{C}_{t+1} - \\hat{C}_t \\right) & = \\ln(\\beta) + (\\nu - \\gamma) \\left( \\ln(X) + \\hat{X}_{t+1} \\right) - \\hat{P}_{t+1} + \\ln(\\vartheta) - \\ln(1 - \\vartheta) +  \\ln(1 - \\beta) + \\ln(1 - \\vartheta) - \\ln(\\vartheta) -\\nu \\ln(C) - \\nu \\ln(P) - \\nu \\hat{M}_t + \\nu \\left (\\ln(P) + \\hat{P}_t \\right) \\\\\n",
    "        \\nu \\left( \\hat{C}_{t+1} - \\hat{C}_t \\right) & = \\ln(\\beta) + (\\nu - \\gamma) \\left( \\ln(X) + \\hat{X}_{t+1} \\right) - \\hat{P}_{t+1} +  \\ln(1 - \\beta) -\\nu \\ln(C) - \\nu \\hat{M}_t + \\nu \\hat{P}_t \\\\\n",
    "    \\end{align*}\n",
    "$$ -->\n",
    "And then we do the same with the money equation, but first, we divide it by the Euler equation and then rearrange.\n",
    "$$\n",
    "    \\begin{align*}\n",
    "        \\frac{X_{t+s}^{\\nu - \\gamma} C_{t+s}^{-\\nu}}{P_{t+s}} & = \\beta \\mathbb{E}_{t+s} \\left[ \\frac{X_{t+s+1}^{\\nu - \\gamma} C_{t+s+1}^{-\\nu}}{P_{t+s+1}} \\right] + X_{t+s}^{\\nu - \\gamma} \\frac{\\vartheta}{1 - \\vartheta} \\left(\\frac{M_{t+s}}{P_{t+s}}\\right)^{-\\nu} \\frac{1}{P_{t+s}} \\\\\n",
    "        \\frac{\\frac{X_{t+s}^{\\nu - \\gamma} C_{t+s}^{-\\nu}}{P_{t+s}}}{\\frac{X_{t+s}^{\\nu - \\gamma} C_{t+s}^{-\\nu}}{P_{t+s}}} & = \\frac{\\beta \\mathbb{E}_{t+s} \\left[ \\frac{X_{t+s+1}^{\\nu - \\gamma} C_{t+s+1}^{-\\nu}}{P_{t+s+1}} \\right] + X_{t+s}^{\\nu - \\gamma} \\frac{\\vartheta}{1 - \\vartheta} \\left(\\frac{M_{t+s}}{P_{t+s}}\\right)^{-\\nu} \\frac{1}{P_{t+s}}}{\\beta Q_{t+s} \\mathbb{E}_{t+s} \\left[ \\frac{X_{t+s+1}^{\\nu - \\gamma} C_{t+s+1}^{-\\nu}}{P_{t+s+1}} \\right]} \\\\\n",
    "        Q_{t+s} & = \\frac{X_{t+s}^{\\nu - \\gamma} \\frac{\\vartheta}{1 - \\vartheta} \\left(\\frac{M_{t+s}}{P_{t+s}}\\right)^{-\\nu} \\frac{1}{P_{t+s}}}{\\beta \\mathbb{E}_{t+s} \\left[ \\frac{X_{t+s+1}^{\\nu - \\gamma} C_{t+s+1}^{-\\nu}}{P_{t+s+1}} \\right]} \\\\\n",
    "        Q_{t} & = \\beta^{-1} X_{t}^{\\nu - \\gamma} \\frac{\\vartheta}{1 - \\vartheta} M_{t}^{-\\nu} P_{t}^{\\nu-1}  X_{t+1}^{-\\nu + \\gamma} C_{t+1}^{\\nu}P_{t+1} \\\\\n",
    "    \\end{align*}\n",
    "$$\n",
    "Now we take logs and first-order Taylor expansion (skipping straight to the hats).\n",
    "$$\n",
    "    \\begin{align*}\n",
    "        \\ln(Q_{t}) & = - \\ln(\\beta) + (\\nu - \\gamma) \\ln(X_{t}) + \\ln(\\vartheta) - \\ln(1 - \\vartheta) - \\nu \\ln(M_{t}) + (\\nu - 1) \\ln(P_{t}) - (\\nu - \\gamma) \\ln(X_{t+1}) + \\nu \\ln(C_{t+1}) + \\ln(P_{t+1}) \\\\\n",
    "        \\ln(Q) + \\hat{Q}_t & = - \\ln(\\beta) + (\\nu - \\gamma) \\left(\\ln(X) - \\hat{X}_t\\right) + \\ln(\\vartheta) - \\ln(1 - \\vartheta) - \\nu \\left( \\ln(M) + \\hat{M}_t \\right) + (\\nu - 1) \\left( \\ln(P) + \\hat{P}_t \\right) - (\\nu - \\gamma) \\left( \\ln(X) + \\hat{X}_{t+1} \\right) + \\nu \\left( \\ln(C) + \\hat{C}_{t+1} \\right) + \\left( \\ln(P) + \\hat{P}_{t+1} \\right) \\\\\n",
    "    \\end{align*}\n",
    "$$\n",
    "Plugging in $Q = \\frac{1}{\\beta}$ for $\\beta$ and $\\frac{M}{P} = \\left((1 - \\beta)\\frac{1 - \\vartheta}{\\vartheta}\\right)^{-\\frac{1}{\\nu}} C$ for $M$.\n",
    "$$\n",
    "    \\begin{align*}\n",
    "        \\ln(Q) + \\hat{Q}_t & = \\ln(Q) + (\\nu - \\gamma) \\left(\\ln(X) - \\hat{X}_t\\right) + \\ln(\\vartheta) - \\ln(1 - \\vartheta) - \\nu \\ln\\left(\\left((1 - \\beta)\\frac{1 - \\vartheta}{\\vartheta}\\right)^{-\\frac{1}{\\nu}} C P\\right) - \\nu \\hat{M}_t + (\\nu - 1) \\left( \\ln(P) + \\hat{P}_t \\right) - (\\nu - \\gamma) \\left( \\ln(X) + \\hat{X}_{t+1} \\right) + \\nu \\left( \\ln(C) + \\hat{C}_{t+1} \\right) + \\left( \\ln(P) + \\hat{P}_{t+1} \\right) \\\\\n",
    "        \\hat{Q}_t & = (\\nu - \\gamma) \\left(\\ln(X) - \\hat{X}_t\\right) + \\ln(\\vartheta) - \\ln(1 - \\vartheta) + \\ln(1 - \\beta) + \\ln(1 - \\vartheta) - \\ln(\\vartheta) -\\nu \\ln(C) -\\nu \\ln(P) - \\nu \\hat{M}_t + (\\nu - 1) \\left( \\ln(P) + \\hat{P}_t \\right) - (\\nu - \\gamma) \\left( \\ln(X) + \\hat{X}_{t+1} \\right) + \\nu \\left( \\ln(C) + \\hat{C}_{t+1} \\right) + \\left( \\ln(P) + \\hat{P}_{t+1} \\right) \\\\\n",
    "        \\hat{Q}_t & = \\ln(1 - \\beta) + \\nu \\left( \\hat{P}_t - \\hat{M}_t \\right) + \\left(\\hat{P}_{t+1} - \\hat{P}_t \\right) + \\nu \\hat{C}_{t+1} + (\\nu - \\gamma) \\left( \\hat{X}_t - \\hat{X}_{t+1} \\right) \\\\\n",
    "    \\end{align*}\n",
    "$$\n",
    "\n",
    "We also need the firm FOC.\n",
    "$$\n",
    "    \\begin{align*}\n",
    "        A_t & = \\frac{W_t}{P_t} \\\\\n",
    "        \\hat{A}_t & = \\hat{W}_t - \\hat{P}_t\n",
    "    \\end{align*}\n",
    "$$"
   ]
  },
  {
   "cell_type": "markdown",
   "metadata": {},
   "source": [
    "### (h) Following your calibration strategy for each of $\\nu\\in\\{0.25,0.5,1,2,4\\}$, solve the model using sequence space methods using the following parameters:\n",
    "$$\n",
    "\\gamma=1,\\varphi=1,\\chi=1,\\beta=0.99,\\rho_m=0.99\n",
    "$$\n",
    "### where $m_t = \\rho_m m_{t-1} + \\epsilon_t^m$.\n",
    "\n",
    "First, we set up our equilibrium conditions. Rearrange our log-linearized stuff so that the variable of interest is on the left-hand side. First we have the firm block: the production function, the MPL equation, and the market cleraring condition.\n",
    "$$\n",
    "    \\begin{align*}\n",
    "        \\hat{Y}_t & = \\hat{A}_t + \\hat{N}_t \\\\\n",
    "        \\hat{W}_t - \\hat{P}_t & = \\hat{A}_t \\\\\n",
    "        \\hat{C}_t & = \\hat{Y}_t\n",
    "    \\end{align*}\n",
    "$$\n",
    ", let' household block, whcih includes labor–leisure (labor supply), Euler (consumption demand), and the money thing (money demand). Here we also include the exogenous money shock equation $m_t = \\rho_m m_{t-1} + \\epsilon_t^m$.\n",
    "$$\n",
    "    \\begin{align*}\n",
    "        \\hat{X}_t & = \\frac{1}{\\nu - \\gamma} \\left( \\varphi \\hat{N}_t + \\nu \\hat{C}_t - \\left( \\hat{W}_t - \\hat{P}_t \\right) \\right) \\\\\n",
    "        \\hat{P}_{t} & = - \\nu \\left( \\hat{C}_{t} - \\hat{C}_{t-1} \\right) + (\\nu - \\gamma) \\hat{X}_{t} - \\nu \\left( \\hat{M}_{t-1} - \\hat{P}_{t-1} \\right) \\\\\n",
    "        \\hat{Q}_t & = \\left( \\frac{\\nu (1-\\beta)}{\\beta} \\right) \\left(\\hat{C}_t - \\hat{M}_t + \\hat{P}_t\\right)\n",
    "    \\end{align*}\n",
    "$$\n",
    "Solve all these for zero and squish them into one big matrix.\n",
    "$$\n",
    "    \\textbf{H}_t(\\textbf{Y}, \\hat{M}) \\equiv \n",
    "    \\begin{pmatrix}\n",
    "        \\hat{Y}_t - \\hat{A}_t - \\hat{N}_t \\\\\n",
    "        \\hat{W}_t - \\hat{P}_t - \\hat{A}_t \\\\\n",
    "        \\hat{C}_t - \\hat{Y}_t \\\\\n",
    "        \\hat{X}_t - \\frac{1}{\\nu - \\gamma} \\left( \\varphi \\hat{N}_t + \\nu \\hat{C}_t - \\left( \\hat{W}_t - \\hat{P}_t \\right) \\right) \\\\\n",
    "        \\hat{P}_{t} + \\nu \\left( \\hat{C}_{t} - \\hat{C}_{t-1} \\right) - (\\nu - \\gamma) \\hat{X}_{t} + \\nu \\left( \\hat{M}_{t-1} - \\hat{P}_{t-1} \\right) \\\\\n",
    "        \\hat{Q}_t - \\left( \\frac{\\nu (1-\\beta)}{\\beta} \\right) \\left(\\hat{C}_t - \\hat{M}_t + \\hat{P}_t\\right)\n",
    "    \\end{pmatrix}\n",
    "    = \n",
    "    \\begin{pmatrix}\n",
    "        0 \\\\ 0 \\\\ 0 \\\\ 0 \\\\ 0 \\\\ 0 \\\\ 0\n",
    "    \\end{pmatrix}\n",
    "    , \\qquad t = 0, 1, \\dots \n",
    "$$\n",
    "So now we have all of our variables. Following Johannes's naming convention, we define\n",
    "$$\n",
    "    \\begin{align*}\n",
    "        \\mathbf{Z} & = \\hat{M}+t \\\\\n",
    "        \\mathbf{U} & = \\hat{P}_t, \\hat{N}_t \\\\\n",
    "        \\mathbf{Y} & = \\hat{Y}, \\hat{W} - \\hat{P}, \\hat{C}, \\hat{X}_t, \\hat{P}_t, \\hat{Q}_t\n",
    "    \\end{align*}\n",
    "$$\n",
    "\n",
    "Then we take a bunch of derivatives. To find $\\frac{\\partial \\mathbf{H}}{\\partial \\mathbf{Y}}$, I will treat everything as linear (not vectors) for now. Define $\\Phi_{A, B}$ as the derivative of the $A$ equation with respect to $B$, $\\mathbf{I}$ as the identity matrix, $\\mathbf{0}$ as the zero matrix.\n",
    "\n",
    "$$\n",
    "    \\begin{align*}\n",
    "        \\Phi_{whatever} & = \n",
    "    \\end{align*}\n",
    "$$\n",
    "\n",
    "This is where I stopped for now. Based on today's discussion with John, I should be able to make some progress tomorrow."
   ]
  },
  {
   "cell_type": "markdown",
   "metadata": {},
   "source": [
    "Install packages. If you don't already have these installed, uncommemnt the code."
   ]
  },
  {
   "cell_type": "code",
   "execution_count": 5,
   "metadata": {},
   "outputs": [],
   "source": [
    "# pip install numpy\n",
    "# pip install scipy\n",
    "# pip install matplotlib"
   ]
  },
  {
   "cell_type": "code",
   "execution_count": 6,
   "metadata": {},
   "outputs": [],
   "source": [
    "import numpy as np\n",
    "import scipy as sp\n",
    "import matplotlib.pyplot as plt"
   ]
  },
  {
   "cell_type": "markdown",
   "metadata": {},
   "source": [
    "Define parameters."
   ]
  },
  {
   "cell_type": "code",
   "execution_count": 7,
   "metadata": {},
   "outputs": [],
   "source": [
    "gamma = 1\n",
    "varphi = 1\n",
    "chi = 1\n",
    "beta = 0.99\n",
    "rho = 0.99\n",
    "T = 100\n",
    "nu = 0.25"
   ]
  },
  {
   "cell_type": "markdown",
   "metadata": {},
   "source": [
    "Next we set up the matrices in the market clearing block, which we use to construct $\\partial \\mathbf{H}/ \\partial \\mathbf{Y}$."
   ]
  },
  {
   "cell_type": "code",
   "execution_count": 8,
   "metadata": {},
   "outputs": [
    {
     "ename": "NameError",
     "evalue": "name 'sc' is not defined",
     "output_type": "error",
     "traceback": [
      "\u001b[0;31m---------------------------------------------------------------------------\u001b[0m",
      "\u001b[0;31mNameError\u001b[0m                                 Traceback (most recent call last)",
      "Cell \u001b[0;32mIn[8], line 8\u001b[0m\n\u001b[1;32m      5\u001b[0m Z \u001b[38;5;241m=\u001b[39m sp\u001b[38;5;241m.\u001b[39msparse\u001b[38;5;241m.\u001b[39mcsr_matrix((T, T))\n\u001b[1;32m      7\u001b[0m \u001b[38;5;66;03m# dH/dY: market clearing block: goods market clearing\u001b[39;00m\n\u001b[0;32m----> 8\u001b[0m Phigmc \u001b[38;5;241m=\u001b[39m \u001b[43msc\u001b[49m \u001b[38;5;241m*\u001b[39m I\n\u001b[1;32m      9\u001b[0m Phigmi \u001b[38;5;241m=\u001b[39m (\u001b[38;5;241m1\u001b[39m \u001b[38;5;241m-\u001b[39m sc) \u001b[38;5;241m*\u001b[39m I\n\u001b[1;32m     10\u001b[0m Phigmy \u001b[38;5;241m=\u001b[39m \u001b[38;5;241m-\u001b[39mI\n",
      "\u001b[0;31mNameError\u001b[0m: name 'sc' is not defined"
     ]
    }
   ],
   "source": [
    "# define sparse identity, above-diagonal sparse matrix, below-diagonal sparse matrix, and zero matrix\n",
    "I = sp.sparse.eye(T)\n",
    "Ip1 = sp.sparse.diags([np.ones(T-1)], [1], (T, T))\n",
    "Im1 = sp.sparse.diags([np.ones(T-1)], [-1], (T, T))\n",
    "Z = sp.sparse.csr_matrix((T, T))\n",
    "\n",
    "# dH/dY: market clearing block: goods market clearing\n",
    "Phigmc = sc * I\n",
    "Phigmi = (1 - sc) * I\n",
    "Phigmy = -I\n",
    "Phigmrk = Z\n",
    "Phigmwp = Z\n",
    "\n",
    "# More dH/dY: market clearing block: Euler equation\n",
    "Phieulc = gamma * I - gamma * Ip1\n",
    "Phieuli = Z\n",
    "Phieuly = Z\n",
    "Phieulrk = (1 - beta * (1 - delta)) * I\n",
    "Phieulwp = Z\n",
    "\n",
    "# Smush the pieces of dH/dY together: combine matrix blocks in a single sparse matrix with the following structure:\n",
    "# [Phigmc Phigmi Phigmy Phigmrk Phigmwp]\n",
    "# [Phieulc Phieuli Phieuly Phieulrk Phieulwp]\n",
    "dHdY = sp.sparse.bmat([[Phigmc, Phigmi, Phigmy, Phigmrk, Phigmwp],\n",
    "                       [Phieulc, Phieuli, Phieuly, Phieulrk, Phieulwp]])\n",
    "\n",
    "assert dHdY.shape == (2*T, 5*T)"
   ]
  },
  {
   "cell_type": "markdown",
   "metadata": {},
   "source": [
    "Next we construct $\\partial \\mathbf{Y} / \\partial \\mathbf{U}$ and $\\partial \\mathbf{Y} / \\partial \\mathbf{Z}$ using the blocks. Start with the firm block."
   ]
  },
  {
   "cell_type": "code",
   "execution_count": null,
   "metadata": {},
   "outputs": [],
   "source": [
    "# dY/dU firm block matrices: output\n",
    "Phiya = I\n",
    "Phiyk = alpha * Im1\n",
    "Phiyn = (1 - alpha) * I\n",
    "\n",
    "# dY/dU firm block matrices: labor demand\n",
    "Phiwpa = I\n",
    "Phiwpk = alpha * Im1\n",
    "Phiwpn = - alpha * I\n",
    "\n",
    "# dY/dU firm block matrices: capital demand. Note return is computed for the next period\n",
    "Phirka = Ip1\n",
    "Phirkk = (alpha - 1) * I\n",
    "Phirkn = (1 - alpha) * Ip1\n",
    "\n",
    "# combine firm matrices in the following format:\n",
    "# [Phiyk Phiyn]\n",
    "# [Phirkk Phirkn]\n",
    "# [Phiwpk Phiwpn]\n",
    "dYFdU = sp.sparse.bmat([[Phiyk, Phiyn],\n",
    "                        [Phirkk, Phirkn],\n",
    "                        [Phiwpk, Phiwpn],\n",
    "                       ])\n",
    "\n",
    "# combine firm matrices in the following format:\n",
    "# [Phiya]\n",
    "# [Phiwpa]\n",
    "# [Phirka]\n",
    "dYFdZ = sp.sparse.bmat([[Phiya],\n",
    "                       [Phirka],\n",
    "                       [Phiwpa]])\n",
    "\n",
    "assert dYFdU.shape == (3*T, 2*T)\n",
    "assert dYFdZ.shape == (3*T, T)"
   ]
  },
  {
   "cell_type": "markdown",
   "metadata": {},
   "source": [
    "Then move on to the household block."
   ]
  },
  {
   "cell_type": "code",
   "execution_count": null,
   "metadata": {},
   "outputs": [],
   "source": [
    "# household block matrix: labor supply\n",
    "Phica = 1/gamma * Phiwpa\n",
    "Phick = 1/gamma * Phiwpk\n",
    "Phicn = 1/gamma * Phiwpn - phi / gamma * I\n",
    "\n",
    "# household block matrix: capital accumulation equation\n",
    "Phiia = Z\n",
    "Phiik = (delta - 1) / delta * Im1 + 1 / delta * I\n",
    "Phiin = Z\n",
    "\n",
    "# combine household matrices in the following format:\n",
    "# [Phick Phicn]\n",
    "# [Phiik Phiin]\n",
    "dYHdU = sp.sparse.bmat([[Phick, Phicn],\n",
    "                       [Phiik, Phiin]])\n",
    "\n",
    "# combine household matrices in the following format:\n",
    "# [Phick Phicn]\n",
    "# [Phiik Phiin]\n",
    "dYHdZ = sp.sparse.bmat([[Phica],\n",
    "                       [Phiia]])\n",
    "\n",
    "assert dYHdU.shape == (2*T, 2*T)\n",
    "assert dYHdZ.shape == (2*T, T)"
   ]
  },
  {
   "cell_type": "markdown",
   "metadata": {},
   "source": [
    "Now stack the household block on top of the firm block to get $\\partial \\mathbf{Y} / \\partial \\mathbf{U}$ and $\\partial \\mathbf{Y} / \\partial \\mathbf{Z}$."
   ]
  },
  {
   "cell_type": "code",
   "execution_count": null,
   "metadata": {},
   "outputs": [],
   "source": [
    "# stack dYHdU on top of dYFdU to get dYdU\n",
    "dYdU = sp.sparse.bmat([[dYHdU],\n",
    "                      [dYFdU]])\n",
    "\n",
    "# stack dYHdZ on top of dYFdZ to get dYdZ\n",
    "dYdZ = sp.sparse.bmat([[dYHdZ],\n",
    "                      [dYFdZ]])\n",
    "\n",
    "assert dYdU.shape == (5*T, 2*T)\n",
    "assert dYdZ.shape == (5*T, T)"
   ]
  },
  {
   "cell_type": "markdown",
   "metadata": {},
   "source": [
    "We have everything now to compute the solution."
   ]
  },
  {
   "cell_type": "code",
   "execution_count": null,
   "metadata": {},
   "outputs": [],
   "source": [
    "# compute dHdU using the chain rule dHdU = dHdY @ dYdU (@ is the python matrix multiplication operator)\n",
    "dHdU = dHdY @ dYdU \n",
    "\n",
    "# compute dHdZ using the chain rule dHdZ = dHdY @ dYdZ (@ is the python matrix multiplication operator)\n",
    "dHdZ = dHdY @ dYdZ\n",
    "\n",
    "assert sp.sparse.issparse(dHdZ) == True\n",
    "assert sp.sparse.issparse(dHdU) == True\n",
    "\n",
    "assert dHdU.shape == (2*T, 2*T)\n",
    "assert dHdZ.shape == (2*T, T)\n",
    "\n",
    "# compute the Jacobian of the model\n",
    "dUdZ = - sp.sparse.linalg.spsolve(dHdU, dHdZ)\n",
    "dYdZ = dYdU @ dUdZ + dYdZ\n",
    "\n",
    "dXdZ = sp.sparse.bmat([[dUdZ],\n",
    "                      [dYdZ]])\n",
    "\n",
    "assert dUdZ.shape == (2*T, T)\n",
    "assert dYdZ.shape == (5*T, T)\n",
    "assert dXdZ.shape == (7*T, T)"
   ]
  },
  {
   "cell_type": "markdown",
   "metadata": {},
   "source": [
    "Plot IRF for an AR(1) TFP shock with persistence rho"
   ]
  },
  {
   "cell_type": "code",
   "execution_count": null,
   "metadata": {},
   "outputs": [],
   "source": [
    "# plot IRFs to TFP shock with persistence rho\n",
    "rho = 0.9\n",
    "a = np.zeros((T, 1))\n",
    "a[0] = 1\n",
    "for t in range(1, T):\n",
    "    a[t] = rho * a[t-1]\n",
    "\n",
    "# compute impulse response functions\n",
    "X = dXdZ @ a\n",
    "\n",
    "# unpack X into its components k,n,c,inv,y,wp,rk\n",
    "k = X[0:T]\n",
    "n = X[T:2*T]\n",
    "c = X[2*T:3*T]\n",
    "inv = X[3*T:4*T]\n",
    "y = X[4*T:5*T]\n",
    "wp = X[5*T:6*T]\n",
    "rk = X[6*T:7*T]\n",
    "    \n",
    "# plot impulse response functions\n",
    "fig, ax = plt.subplots(4, 2, figsize=(12, 10))\n",
    "ax[0, 0].plot(a, label='a')\n",
    "ax[0, 0].set_title('Technology Shock')\n",
    "ax[0, 1].plot(k, label='k')\n",
    "ax[0, 1].set_title('Capital')\n",
    "ax[1, 0].plot(n, label='n')\n",
    "ax[1, 0].set_title('Labor')\n",
    "ax[1, 1].plot(c, label='c')\n",
    "ax[1, 1].set_title('Consumption')\n",
    "ax[2, 0].plot(inv, label='inv')\n",
    "ax[2, 0].set_title('Investment')\n",
    "ax[2, 1].plot(y, label='y')\n",
    "ax[2, 1].set_title('Output')\n",
    "ax[3, 0].plot(rk, label='rk')\n",
    "ax[3, 0].set_title('Return to Capital')\n",
    "ax[3, 1].plot(wp, label='wp')\n",
    "ax[3, 1].set_title('Real Wage')\n",
    "plt.savefig('IRFs.png')\n",
    "\n"
   ]
  },
  {
   "cell_type": "markdown",
   "metadata": {},
   "source": [
    "### Report the IRFs for consumption, prices, the nominal interest rate. Your graph for each variable should contain all five cases, appropriately labelled. \n",
    "\n"
   ]
  },
  {
   "cell_type": "markdown",
   "metadata": {},
   "source": [
    "### (h) Intuitively explain your results.\n",
    "\n",
    "I know I have no graphs to show you, but that doesn't mean I can't armchair theorize over here.\n",
    "* **Price**: Jumps up at the start, slowly reverts back down to steady state as the shock dissipates. This makes sense: \"more money chasing the same amount of goods,\" as Milton Friedman would say.\n",
    "* **Nominal Interest Rate**: Jumps down at the start, slowly reverts back up to steady state as the shock dissipates. This also makes sense: \n",
    "* **Consumption**: This depends on $\\nu$. At $\\nu = 1$, consumption does not respond to the shock. At $\\nu = 2, 4$, consumption mirrors price, jumping up and then decaying — more dramatically at $\\nu = 4$. At $\\nu = 0.25, 0.5$, consumption mirrors interest, jumping down and then decaying — more dramatically at $\\nu = 0.25$. This makes sense, since $\\nu$ determines whether money and consumption are complements or substitutes."
   ]
  },
  {
   "cell_type": "markdown",
   "metadata": {},
   "source": [
    "### (i) If you had evidence that an increase in the money supply increases consumption, which values for $\\nu$ can you rule out? Explain why.\n",
    "\n",
    "This means that money and consumption are complements, which means that the CES parameter $\\nu > 1$. If $\\nu \\leq 1$, then they'd be substitutes."
   ]
  },
  {
   "cell_type": "markdown",
   "metadata": {},
   "source": [
    "### (j) Make sure your code packet contains a file that produces your graphs with a single click. (It does not need to save the graphs.) Upload it to Github."
   ]
  }
 ],
 "metadata": {
  "kernelspec": {
   "display_name": "Python 3",
   "language": "python",
   "name": "python3"
  },
  "language_info": {
   "codemirror_mode": {
    "name": "ipython",
    "version": 3
   },
   "file_extension": ".py",
   "mimetype": "text/x-python",
   "name": "python",
   "nbconvert_exporter": "python",
   "pygments_lexer": "ipython3",
   "version": "3.12.0"
  }
 },
 "nbformat": 4,
 "nbformat_minor": 2
}
